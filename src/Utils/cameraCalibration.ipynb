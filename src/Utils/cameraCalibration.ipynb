{
 "cells": [
  {
   "cell_type": "code",
   "execution_count": 25,
   "metadata": {},
   "outputs": [
    {
     "name": "stdout",
     "output_type": "stream",
     "text": [
      "/Users/alistair/Projects/Dissertation/Jenson/src/Utils\n",
      "True\n",
      "True\n",
      "True\n"
     ]
    }
   ],
   "source": [
    "\n",
    "import numpy as np \n",
    "import cv2\n",
    "import os\n",
    "import matplotlib.pyplot as plt\n",
    "\n",
    "print(os.getcwd())\n",
    "directory = os.path.join('/' + os.path.join(*os.getcwd().split('/')[0:-1]), \"Output/Chess\")\n",
    "\n",
    "\n",
    "# Get the file paths of all the images in the directory\n",
    "image_paths = [os.path.join(directory, \"chess\"+str(i+1)+\".jpg\") for i in range(5)]\n",
    "\n",
    "# Read each image\n",
    "images = []\n",
    "for image_path in image_paths:\n",
    "    image = cv2.imread(image_path)\n",
    "    if image is not None:\n",
    "        images.append(image)\n",
    "\n",
    "images = images[::2]\n",
    "\n",
    "# Creating vector to store vectors of 3D points for each checkerboard image\n",
    "objpoints = []\n",
    "# Creating vector to store vectors of 2D points for each checkerboard image\n",
    "imgpoints = [] \n",
    "\n",
    "checkerboard_size = (6,7)   # Number of inner corners per a chessboard row/column, which will be use in cv2.findChessboardCorners()\n",
    "checkerboard_length = 50    # the board grid size you choose\n",
    "\n",
    "objp = np.zeros((1, checkerboard_size[0] * checkerboard_size[1], 3), np.float32)\n",
    "objp[0,:,:2] = np.mgrid[0:checkerboard_size[0], 0:checkerboard_size[1]].T.reshape(-1, 2)\n",
    "prev_img_shape = None\n",
    "\n",
    "\n",
    "for img in images:\n",
    "    ret, corners = cv2.findChessboardCorners(img, checkerboard_size, flags = (cv2.CALIB_USE_INTRINSIC_GUESS + cv2.CALIB_CB_ADAPTIVE_THRESH + cv2.CALIB_CB_NORMALIZE_IMAGE)) # find the corners\n",
    "    print(ret)\n",
    "\n",
    "    if ret:\n",
    "        objpoints.append(objp)\n",
    "        criteria=(cv2.TERM_CRITERIA_EPS+cv2.TERM_CRITERIA_MAX_ITER, 3, 0.1) # stop after 3 iterations or the accuracy of 0.1 is achieved\n",
    "        img_grey=cv2.cvtColor(img,cv2.COLOR_BGR2GRAY)\n",
    "        corners2=cv2.cornerSubPix(img_grey,corners,(5,5),(-1,-1),criteria) \n",
    "        imgpoints.append(corners2)\n",
    "        \n",
    "    img_corner=cv2.drawChessboardCorners(img,checkerboard_size,corners2,ret) # draw detected corners\n",
    "    img_corner2 = cv2.cvtColor(img_corner,cv2.COLOR_BGR2RGB)\n",
    "\n",
    "ret, mtx, dist, rvecs, tvecs = cv2.calibrateCamera(objpoints, imgpoints, img_grey.shape[::-1], None, None)\n",
    "\n",
    "\n"
   ]
  },
  {
   "cell_type": "code",
   "execution_count": 26,
   "metadata": {},
   "outputs": [
    {
     "name": "stdout",
     "output_type": "stream",
     "text": [
      "[[3.95368754e+03 0.00000000e+00 2.15232330e+03]\n",
      " [0.00000000e+00 3.96449423e+03 1.45176742e+03]\n",
      " [0.00000000e+00 0.00000000e+00 1.00000000e+00]]\n"
     ]
    }
   ],
   "source": [
    "print(mtx)"
   ]
  },
  {
   "cell_type": "markdown",
   "metadata": {},
   "source": []
  }
 ],
 "metadata": {
  "kernelspec": {
   "display_name": ".venv",
   "language": "python",
   "name": "python3"
  },
  "language_info": {
   "codemirror_mode": {
    "name": "ipython",
    "version": 3
   },
   "file_extension": ".py",
   "mimetype": "text/x-python",
   "name": "python",
   "nbconvert_exporter": "python",
   "pygments_lexer": "ipython3",
   "version": "3.10.12"
  },
  "orig_nbformat": 4
 },
 "nbformat": 4,
 "nbformat_minor": 2
}
